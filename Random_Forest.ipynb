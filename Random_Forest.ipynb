{
  "cells": [
    {
      "cell_type": "markdown",
      "metadata": {
        "id": "9-LMz9MbyKNt"
      },
      "source": [
        "## Problem Statement:\n",
        "The objective of the dataset is to predict the quality of wine, whether it is a good quality of wine or ordinary quality \n",
        "\n",
        "The data set contains several parameters which are considered important while determining the quality of a wine\n",
        "\n",
        "The dataset consists of several predictor variables and one target variable, Quality. The target variable has values ranging from 0 to 10, the value is the rating given to each wine on a 10 point scale"
      ]
    },
    {
      "cell_type": "code",
      "execution_count": null,
      "metadata": {
        "id": "vOT_McBPyKNw"
      },
      "outputs": [],
      "source": [
        "\n",
        "import numpy as np\n",
        "import pandas as pd\n",
        "import matplotlib.pyplot as plt\n",
        "import seaborn as sns\n",
        "from sklearn import preprocessing\n",
        "pd.set_option('display.float_format', lambda x: '%.2f' % x)\n",
        "from sklearn.model_selection import train_test_split\n",
        "from sklearn.metrics import accuracy_score\n",
        "from sklearn.metrics import confusion_matrix\n",
        "from sklearn.ensemble import RandomForestClassifier\n",
        "from sklearn.metrics import roc_curve\n",
        "from sklearn.metrics import roc_auc_score\n",
        "from matplotlib import pyplot"
      ]
    },
    {
      "cell_type": "code",
      "source": [
        "from google.colab import drive\n",
        "drive.mount('/content/drive')"
      ],
      "metadata": {
        "id": "o3ryl2cyyN-6"
      },
      "execution_count": null,
      "outputs": []
    },
    {
      "cell_type": "code",
      "execution_count": null,
      "metadata": {
        "id": "B2gPvtOEyKNy"
      },
      "outputs": [],
      "source": [
        "wine = pd.read_csv('/content/drive/MyDrive/0.MKCE/5.Random Forest/3 Take-Home Assignment/wine.csv')"
      ]
    },
    {
      "cell_type": "code",
      "execution_count": null,
      "metadata": {
        "id": "S4ImlPiFyKN0"
      },
      "outputs": [],
      "source": [
        "wine.head(10)"
      ]
    },
    {
      "cell_type": "code",
      "execution_count": null,
      "metadata": {
        "id": "7iNQ_iapyKN1"
      },
      "outputs": [],
      "source": [
        "wine.dtypes"
      ]
    },
    {
      "cell_type": "code",
      "execution_count": null,
      "metadata": {
        "id": "VKUxHDXCyKN1"
      },
      "outputs": [],
      "source": [
        "wine.shape"
      ]
    },
    {
      "cell_type": "markdown",
      "metadata": {
        "id": "2ZP0l45NyKN2"
      },
      "source": [
        "We can see here that the data set contains 1599 observations and 12 attributes"
      ]
    },
    {
      "cell_type": "code",
      "execution_count": null,
      "metadata": {
        "id": "PD7awiquyKN2"
      },
      "outputs": [],
      "source": [
        "\n",
        "sns.set()\n",
        "fig = plt.figure(figsize = [15, 15])\n",
        "\n",
        "cols = ['fixed acidity', 'volatile acidity', 'citric acid', \n",
        "        'residual sugar', 'chlorides', 'free sulfur dioxide', \n",
        "        'total sulfur dioxide', 'density', 'pH', 'sulphates', 'alcohol', 'quality']\n",
        "count = 1\n",
        "\n",
        "# Generating the plots\n",
        "for col in cols :\n",
        "    plt.subplot(4,3,count)\n",
        "    sns.distplot(wine[col],hist_kws = dict(edgecolor = \"k\", linewidth = 1,color = 'grey'), color = 'red')\n",
        "    count+=1\n",
        "plt.show() "
      ]
    },
    {
      "cell_type": "markdown",
      "metadata": {
        "id": "8iWCXEotyKN3"
      },
      "source": [
        "Here we can see the distribution of all the attributes, including the target variable"
      ]
    },
    {
      "cell_type": "code",
      "execution_count": null,
      "metadata": {
        "id": "IqKpvPqIyKN3"
      },
      "outputs": [],
      "source": [
        "plt.figure(figsize = (8, 8))\n",
        "sns.heatmap(wine.corr(), annot=True, linewidths=0.05, fmt= '.2f',cmap=\"magma\")\n",
        "plt.show()"
      ]
    },
    {
      "cell_type": "code",
      "execution_count": null,
      "metadata": {
        "id": "8H6ua9qJyKN4"
      },
      "outputs": [],
      "source": [
        "sns.set_style(\"whitegrid\")\n",
        "fig = plt.figure(figsize = [15, 15])\n",
        "\n",
        "cols = ['fixed acidity', 'volatile acidity', 'citric acid', \n",
        "        'residual sugar', 'chlorides', 'free sulfur dioxide', \n",
        "        'total sulfur dioxide', 'density', 'pH', 'sulphates', 'alcohol']\n",
        "count = 1\n",
        "\n",
        "for col in cols :\n",
        "    plt.subplot(4,3,count)\n",
        "    sns.barplot(data = wine, x = 'quality', y = col)\n",
        "    count+=1\n",
        "plt.show()  "
      ]
    },
    {
      "cell_type": "code",
      "execution_count": null,
      "metadata": {
        "id": "z7BXw5JNyKN4"
      },
      "outputs": [],
      "source": [
        "sns.pairplot(wine, hue = 'quality')\n",
        "plt.show()"
      ]
    },
    {
      "cell_type": "code",
      "execution_count": null,
      "metadata": {
        "id": "CLEVybgoyKN5"
      },
      "outputs": [],
      "source": [
        "sns.countplot(data = wine, x = 'quality')\n",
        "plt.show()"
      ]
    },
    {
      "cell_type": "code",
      "execution_count": null,
      "metadata": {
        "id": "db28FKSqyKN6"
      },
      "outputs": [],
      "source": [
        "wine['quality'] = wine.quality.apply(lambda x : 1 if x > 6.5 else 0)"
      ]
    },
    {
      "cell_type": "code",
      "execution_count": null,
      "metadata": {
        "id": "8d72Pcl7yKN6"
      },
      "outputs": [],
      "source": [
        "sns.countplot(data = wine, x = 'quality')\n",
        "plt.show()"
      ]
    },
    {
      "cell_type": "code",
      "execution_count": null,
      "metadata": {
        "id": "6GK10R59yKN7"
      },
      "outputs": [],
      "source": [
        "x = wine.drop('quality',1)\n",
        "y = wine['quality']\n",
        "\n",
        "x_train, x_test, y_train, y_test = train_test_split(x, y, train_size = 0.8, random_state = 100)"
      ]
    },
    {
      "cell_type": "code",
      "execution_count": null,
      "metadata": {
        "id": "Tz7z0BKeyKN8"
      },
      "outputs": [],
      "source": [
        "clf_rf = RandomForestClassifier(n_estimators = 200, criterion = 'entropy', \n",
        "                                min_samples_split = 10, min_samples_leaf = 9, max_features = \"auto\",\n",
        "                                random_state = 500, max_depth = 12) "
      ]
    },
    {
      "cell_type": "code",
      "execution_count": null,
      "metadata": {
        "id": "1QvOY7ouyKN8"
      },
      "outputs": [],
      "source": [
        "clf_fit = clf_rf.fit(x_train, y_train) \n",
        "y_pred = clf_fit.predict(x_test) "
      ]
    },
    {
      "cell_type": "code",
      "execution_count": null,
      "metadata": {
        "id": "xHNmv4IwyKN8"
      },
      "outputs": [],
      "source": [
        "accuracy_score(y_test, y_pred)"
      ]
    },
    {
      "cell_type": "code",
      "execution_count": null,
      "metadata": {
        "id": "m4WC_eC0yKN9"
      },
      "outputs": [],
      "source": [
        "y_proba = clf_fit.predict_proba(x_test)"
      ]
    },
    {
      "cell_type": "code",
      "execution_count": null,
      "metadata": {
        "id": "SAh3taPbyKN9"
      },
      "outputs": [],
      "source": [
        "print(confusion_matrix(y_test, y_pred))"
      ]
    },
    {
      "cell_type": "code",
      "execution_count": null,
      "metadata": {
        "id": "mDVq1ZDryKN-"
      },
      "outputs": [],
      "source": [
        "y_predicted = y_proba[:,1]\n",
        "print(y_predicted)"
      ]
    },
    {
      "cell_type": "code",
      "execution_count": null,
      "metadata": {
        "id": "xS_YKqSCyKN-"
      },
      "outputs": [],
      "source": [
        "fpr, tpr, thresholds = roc_curve(y_test,y_predicted)\n",
        "from sklearn.metrics import auc\n",
        "roc_auc = auc(fpr,tpr)\n",
        "print(\"Area under the curve for first model\",roc_auc)"
      ]
    },
    {
      "cell_type": "code",
      "execution_count": null,
      "metadata": {
        "id": "6d9OcrI2yKN-"
      },
      "outputs": [],
      "source": [
        "plt.figure()\n",
        "plt.plot(fpr, tpr, color = 'orange', lw = 2, label = 'ROC curve (area under curve =%0.2f)'%roc_auc)\n",
        "\n",
        "plt.plot([0,1],[0,1], color = 'darkgrey',lw = 2,linestyle='--')\n",
        "plt.xlim([0.0,1.0])\n",
        "plt.ylim([0.0,1.0])\n",
        "plt.xlabel('False Positive Rate (1-Specificity)')\n",
        "plt.ylabel('True Positive Rate (Sensitivity)')\n",
        "plt.title('ROC Curve for first model')\n",
        "plt.legend(loc = \"upper left\")\n",
        "plt.show()"
      ]
    },
    {
      "cell_type": "code",
      "execution_count": null,
      "metadata": {
        "id": "zcI_h8CVyKN_"
      },
      "outputs": [],
      "source": [
        "clf_rf2 = RandomForestClassifier(n_estimators = 100, criterion = 'gini', \n",
        "                                min_samples_split = 2, min_samples_leaf = 5, max_features = \"auto\",\n",
        "                                random_state = 100, max_depth = 3) "
      ]
    },
    {
      "cell_type": "code",
      "execution_count": null,
      "metadata": {
        "id": "K6d_lqt1yKN_"
      },
      "outputs": [],
      "source": [
        "clf_fit_2 = clf_rf2.fit(x_train, y_train) \n",
        "y_pred_2 = clf_fit_2.predict(x_test) "
      ]
    },
    {
      "cell_type": "code",
      "execution_count": null,
      "metadata": {
        "id": "wXuRJiahyKN_"
      },
      "outputs": [],
      "source": [
        "from sklearn.metrics import accuracy_score\n",
        "accuracy_score(y_test, y_pred_2)"
      ]
    },
    {
      "cell_type": "code",
      "execution_count": null,
      "metadata": {
        "id": "0SAmsMUcyKOA"
      },
      "outputs": [],
      "source": [
        "y_proba_2 = clf_fit.predict_proba(x_test)"
      ]
    },
    {
      "cell_type": "code",
      "execution_count": null,
      "metadata": {
        "id": "_Xk2KaCvyKOA"
      },
      "outputs": [],
      "source": [
        "y_predicted_2 = y_proba_2[:,1]\n",
        "fpr, tpr, thresholds = roc_curve(y_test, y_predicted_2)\n",
        "from sklearn.metrics import auc\n",
        "roc_auc = auc(fpr,tpr)\n",
        "print(\"Area under the curve for the second model\",roc_auc)"
      ]
    }
  ],
  "metadata": {
    "kernelspec": {
      "display_name": "Python 3",
      "language": "python",
      "name": "python3"
    },
    "language_info": {
      "codemirror_mode": {
        "name": "ipython",
        "version": 3
      },
      "file_extension": ".py",
      "mimetype": "text/x-python",
      "name": "python",
      "nbconvert_exporter": "python",
      "pygments_lexer": "ipython3",
      "version": "3.7.1"
    },
    "colab": {
      "name": " Random Forest.ipynb",
      "provenance": [],
      "collapsed_sections": []
    }
  },
  "nbformat": 4,
  "nbformat_minor": 0
}